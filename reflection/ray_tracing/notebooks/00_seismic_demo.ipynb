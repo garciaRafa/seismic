{
 "cells": [
  {
   "cell_type": "code",
   "execution_count": null,
   "id": "83469281",
   "metadata": {},
   "outputs": [],
   "source": [
    "import sys\n",
    "\n",
    "sys.path.append('../src')\n",
    "\n",
    "from seismic_acquisition import plot_seismic_acquisition\n",
    "from wave_propagation import plot_wave_types"
   ]
  },
  {
   "cell_type": "code",
   "execution_count": null,
   "id": "669f1f2d",
   "metadata": {},
   "outputs": [],
   "source": [
    "plot_seismic_acquisition()"
   ]
  },
  {
   "cell_type": "code",
   "execution_count": null,
   "id": "b7011418",
   "metadata": {},
   "outputs": [],
   "source": [
    "plot_wave_types()"
   ]
  }
 ],
 "metadata": {
  "kernelspec": {
   "display_name": "base",
   "language": "python",
   "name": "python3"
  },
  "language_info": {
   "codemirror_mode": {
    "name": "ipython",
    "version": 3
   },
   "file_extension": ".py",
   "mimetype": "text/x-python",
   "name": "python",
   "nbconvert_exporter": "python",
   "pygments_lexer": "ipython3",
   "version": "3.12.9"
  }
 },
 "nbformat": 4,
 "nbformat_minor": 5
}
