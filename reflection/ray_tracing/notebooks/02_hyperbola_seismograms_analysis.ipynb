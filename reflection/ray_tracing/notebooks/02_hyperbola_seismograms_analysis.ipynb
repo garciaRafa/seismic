{
 "cells": [
  {
   "cell_type": "code",
   "execution_count": null,
   "id": "8626778f",
   "metadata": {},
   "outputs": [],
   "source": [
    "# Hyperbola and Synthetic Seismogram Analysis\n",
    "# Analysis of reflection hyperbolas and generation of synthetic seismograms\n",
    "\n",
    "import sys\n",
    "\n",
    "sys.path.append('../src')\n",
    "\n",
    "import numpy as np\n",
    "import matplotlib.pyplot as plt\n",
    "from raypaths import generate_hyperbola_curves\n",
    "from synthetic_seismograms import (ricker_wavelet, generate_synthetic_seismogram, \n",
    "                                   plot_hyperbola_seismogram_comparison, \n",
    "                                   plot_hyperbola_curves, plot_seismogram, \n",
    "                                   plot_comparison_seismograms)"
   ]
  },
  {
   "cell_type": "code",
   "execution_count": null,
   "id": "184ed821",
   "metadata": {},
   "outputs": [],
   "source": [
    "# Set plot style\n",
    "plt.style.use('seaborn-v0_8-white')\n",
    "plt.rcParams['figure.figsize'] = (12, 8)\n",
    "plt.rcParams['font.size'] = 12\n",
    "plt.rcParams['axes.grid'] = True\n",
    "\n",
    "# Configuration parameters\n",
    "# -----------------------\n",
    "source_x = 0  # Source position\n",
    "n_receivers = 100\n",
    "receiver_x = np.linspace(-1500, 1500, n_receivers)\n",
    "\n",
    "# Model parameters\n",
    "reflector_depth = 400  # meters\n",
    "velocity = 2000  # m/s\n",
    "\n",
    "# Time parameters for seismogram\n",
    "duration = 1.2  # seconds\n",
    "dt = 0.002  # seconds\n",
    "frequency = 25  # Hz\n",
    "\n",
    "# Dip angles to analyze\n",
    "dip_angles = [0, 15, 30]  # degrees"
   ]
  },
  {
   "cell_type": "code",
   "execution_count": null,
   "id": "61449211",
   "metadata": {},
   "outputs": [],
   "source": [
    "# Generate hyperbola curves\n",
    "hyperbolas = generate_hyperbola_curves(source_x, receiver_x, reflector_depth, velocity, dip_angles)\n",
    "\n",
    "# Generate Ricker wavelet\n",
    "t, wavelet = ricker_wavelet(frequency, 0.15, dt)\n",
    "\n",
    "\n",
    "# Generate synthetic seismograms\n",
    "seismograms = {}\n",
    "\n",
    "for angle, travel_times in hyperbolas.items():\n",
    "    seismogram = generate_synthetic_seismogram(travel_times, wavelet, duration, dt, 0.02)\n",
    "    seismograms[angle] = seismogram"
   ]
  },
  {
   "cell_type": "code",
   "execution_count": null,
   "id": "cfa00e65",
   "metadata": {},
   "outputs": [],
   "source": [
    "# Plot side-by-side comparisons\n",
    "\n",
    "plot_hyperbola_seismogram_comparison(receiver_x, hyperbolas, seismograms, duration, dip_angles)"
   ]
  }
 ],
 "metadata": {
  "kernelspec": {
   "display_name": "base",
   "language": "python",
   "name": "python3"
  },
  "language_info": {
   "codemirror_mode": {
    "name": "ipython",
    "version": 3
   },
   "file_extension": ".py",
   "mimetype": "text/x-python",
   "name": "python",
   "nbconvert_exporter": "python",
   "pygments_lexer": "ipython3",
   "version": "3.12.9"
  }
 },
 "nbformat": 4,
 "nbformat_minor": 5
}
