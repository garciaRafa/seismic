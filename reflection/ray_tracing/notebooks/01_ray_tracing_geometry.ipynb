{
 "cells": [
  {
   "cell_type": "code",
   "execution_count": null,
   "id": "a36a0fe3-6b39-4f63-94ea-f1791098f7e8",
   "metadata": {},
   "outputs": [],
   "source": [
    "import sys\n",
    "\n",
    "sys.path.append('../src')\n",
    "\n",
    "import geometry\n",
    "import numpy as np\n",
    "import matplotlib.pyplot as plt"
   ]
  },
  {
   "cell_type": "code",
   "execution_count": null,
   "id": "e67855d7-db92-4b99-8621-67d92eb51790",
   "metadata": {},
   "outputs": [],
   "source": [
    "# Create multiple sources\n",
    "sources = (0, 0)\n",
    "\n",
    "# Create receivers\n",
    "receivers_x, receivers_z = geometry.create_receiver_array(20, 0, 1000, z=0)\n",
    "\n",
    "# Set interface depth\n",
    "reflection_depth = 300\n",
    "\n",
    "# Generate the acquisition geometry graph\n",
    "fig, ax = geometry.plot_acquisition_geometry(\n",
    "    sources, receivers_x, receivers_z, \n",
    "    reflection_depth, show_rays=True, \n",
    "    # save_path=\"geometry_plot.png\"\n",
    ")\n",
    "\n",
    "plt.show()"
   ]
  }
 ],
 "metadata": {
  "kernelspec": {
   "display_name": "base",
   "language": "python",
   "name": "python3"
  },
  "language_info": {
   "codemirror_mode": {
    "name": "ipython",
    "version": 3
   },
   "file_extension": ".py",
   "mimetype": "text/x-python",
   "name": "python",
   "nbconvert_exporter": "python",
   "pygments_lexer": "ipython3",
   "version": "3.12.9"
  }
 },
 "nbformat": 4,
 "nbformat_minor": 5
}
